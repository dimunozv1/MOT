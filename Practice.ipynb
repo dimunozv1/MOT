{
 "cells": [
  {
   "cell_type": "code",
   "execution_count": 99,
   "id": "78bc1f81-d6af-47ed-b08c-9c7391c6d963",
   "metadata": {},
   "outputs": [],
   "source": [
    "import sympy \n",
    "import numpy as np\n",
    "import cmath\n",
    "from sympy import MatrixSymbol, Matrix, symbols\n",
    "\n",
    "\n",
    "#np = pyimport(\"numpy\")"
   ]
  },
  {
   "cell_type": "code",
   "execution_count": 47,
   "id": "b36ed456-67a3-4125-8d78-46fecfe467dc",
   "metadata": {},
   "outputs": [
    {
     "name": "stdout",
     "output_type": "stream",
     "text": [
      "X\n"
     ]
    }
   ],
   "source": [
    "X = MatrixSymbol('X', 3, 3)\n",
    "Y = MatrixSymbol('Y', 3, 3)\n",
    "print(X)"
   ]
  },
  {
   "cell_type": "code",
   "execution_count": null,
   "id": "5c0be8ce-12b7-4226-ac29-2bc4476ed8d0",
   "metadata": {},
   "outputs": [],
   "source": []
  },
  {
   "cell_type": "code",
   "execution_count": 90,
   "id": "fb1968cf-6f5d-45dc-85d0-bd1d2c79cdb3",
   "metadata": {},
   "outputs": [],
   "source": [
    "def hamilsym(Omegas):\n",
    "    levels = len(Omegas)+1\n",
    "    Omega = Omegas[1]\n",
    "    symdeltas = []\n",
    "   # H = MatrixSymbol('H', levels, levels)\n",
    "    #H = Matrix([[None] * levels]*levels)\n",
    "    H = []\n",
    "    for i in range(levels):\n",
    "        symdeltas.append(symbols(f'Delta{i+1}'))\n",
    "        H.append([])\n",
    "        for j in range(levels):\n",
    "            if i == j and i != 0:\n",
    "                #H[i - 1, j - 1] = symdeltas[i - 1]\n",
    "                H[i].append(symdeltas[i])\n",
    "            else:\n",
    "                H[i].append(0)\n",
    "    H[0][1]=Omega         \n",
    "    #H[0, 1] = -Omega * exp(1j * k * x)\n",
    "    #H[0, 2] = -Omega * exp(-1j * k * x)\n",
    "    #H[1, 0] = Omega * exp(-1j * k * x)\n",
    "    #H[2, 0] = Omega * exp(1j * k * x)\n",
    "    \n",
    "    #x, y = sym.symbols('x, y')\n",
    "    return(H)\n"
   ]
  },
  {
   "cell_type": "code",
   "execution_count": 103,
   "id": "2e5a72fe-fd20-4a78-bb80-9715ad6fbd17",
   "metadata": {},
   "outputs": [
    {
     "name": "stdout",
     "output_type": "stream",
     "text": [
      "Matrix([[0, 1114119071.41594 - 844477764.483641*I, 1114119071.41594 + 844477764.483641*I], [-1114119071.41594 - 844477764.483641*I, Delta1, 0], [-1114119071.41594 + 844477764.483641*I, 0, Delta2]])\n"
     ]
    }
   ],
   "source": [
    "\n",
    "def hamilsym(Omegas,k,x):\n",
    "    levels = len(Omegas) + 1\n",
    "    Omega = Omegas[0]  # Assuming you want the first element from the list\n",
    "    symdeltas = [symbols(f'Delta{i + 1}') for i in range(levels)]\n",
    "    \n",
    "    H = Matrix.zeros(levels)\n",
    "    \n",
    "    for i in range(levels):\n",
    "        for j in range(levels):\n",
    "            if i == j and i != 0:\n",
    "                H[i, j] = symdeltas[i - 1]\n",
    "    H[0, 1] = -Omega * cmath.exp(1j * k * x)\n",
    "    H[0, 2] = -Omega * cmath.exp(-1j * k * x)\n",
    "    H[1, 0] = Omega * cmath.exp(-1j * k * x)\n",
    "    H[2, 0] = Omega * cmath.exp(1j * k * x)\n",
    "\n",
    "    return H\n",
    "\n",
    "Omegas = [1.398e9, 1.398e9]\n",
    "k = 1.06e7\n",
    "result = hamilsym(Omegas,k,1)\n",
    "print(result)"
   ]
  },
  {
   "cell_type": "code",
   "execution_count": 91,
   "id": "f3c95eaf-778d-43b6-b8b6-dd810d9605a9",
   "metadata": {},
   "outputs": [
    {
     "name": "stdout",
     "output_type": "stream",
     "text": [
      "3\n",
      "[[0, 1398000000.0, 0], [0, Delta2, 0], [0, 0, Delta3]]\n"
     ]
    }
   ],
   "source": [
    "Omegas = [1.398e9, 1.398e9]\n",
    "print(len(Omegas)+1)\n",
    "print(hamilsym(Omegas))"
   ]
  },
  {
   "cell_type": "code",
   "execution_count": 65,
   "id": "b8ac316a-663f-468a-bef2-0794fa19ddaf",
   "metadata": {},
   "outputs": [
    {
     "ename": "SyntaxError",
     "evalue": "invalid decimal literal (3158521096.py, line 21)",
     "output_type": "error",
     "traceback": [
      "\u001b[0;36m  Cell \u001b[0;32mIn [65], line 21\u001b[0;36m\u001b[0m\n\u001b[0;31m    H[1,2] = -Omega*ℯ^(1im*k*x)\u001b[0m\n\u001b[0m                       ^\u001b[0m\n\u001b[0;31mSyntaxError\u001b[0m\u001b[0;31m:\u001b[0m invalid decimal literal\n"
     ]
    }
   ],
   "source": [
    "function Hamilsym(Omegas,k,x)\n",
    "    #Given lists of Rabi frequencies, detunings, position and wavevector, construct interaction \n",
    "    \"\"\"\n",
    "    Hamiltonian (assuming RWA and dipole approximation) \n",
    "    h_bar = 1 for simplicity.\n",
    "    Both lists should be in ascending order (Omega_12, Omega_23 etc) \"\"\"\n",
    "    levels = length(Omegas)+1\n",
    "    Omega=Omegas[1]\n",
    "    symdeltas = Sym[]\n",
    "    #H = zeros(ComplexF64, levels, levels)\n",
    "    #H = MatrixSymbol('H', levels, levels)\n",
    "    print(H)\n",
    "    for i in 1:levels\n",
    "        push!(symdeltas,Sym(\"Delta$(i)\"))\n",
    "        for j in 1:levels\n",
    "            if i==j && i!=1\n",
    "                H[i,j]=  symdeltas[i-1] \n",
    "            end\n",
    "        end\n",
    "    end\n",
    "    H[1,2] = -Omega*ℯ^(1im*k*x)\n",
    "    H[1,3] = -Omega*ℯ^(-1im*k*x)\n",
    "    H[2,1] = Omega*ℯ^(-1im*k*x)\n",
    "    H[3,1] = Omega*ℯ^(1im*k*x)\n",
    "    return H\n",
    "end\n",
    "\n"
   ]
  },
  {
   "cell_type": "code",
   "execution_count": null,
   "id": "36e273ad-2551-41a6-9305-416745643580",
   "metadata": {},
   "outputs": [],
   "source": []
  }
 ],
 "metadata": {
  "kernelspec": {
   "display_name": "Python 3 (ipykernel)",
   "language": "python",
   "name": "python3"
  },
  "language_info": {
   "codemirror_mode": {
    "name": "ipython",
    "version": 3
   },
   "file_extension": ".py",
   "mimetype": "text/x-python",
   "name": "python",
   "nbconvert_exporter": "python",
   "pygments_lexer": "ipython3",
   "version": "3.10.7"
  }
 },
 "nbformat": 4,
 "nbformat_minor": 5
}
