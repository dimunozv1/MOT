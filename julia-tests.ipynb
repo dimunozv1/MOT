{
 "cells": [
  {
   "cell_type": "code",
   "execution_count": 4,
   "metadata": {},
   "outputs": [
    {
     "name": "stdout",
     "output_type": "stream",
     "text": [
      "[101, 2, 3]\n"
     ]
    }
   ],
   "source": [
    "function update_array(arr)\n",
    "    arr[1] = arr[1]+100  # Change the first element of the array\n",
    "end\n",
    "\n",
    "my_array = [1, 2, 3]\n",
    "update_array(my_array)\n",
    "\n",
    "println(my_array)"
   ]
  },
  {
   "cell_type": "code",
   "execution_count": 10,
   "metadata": {},
   "outputs": [
    {
     "name": "stdout",
     "output_type": "stream",
     "text": [
      "[3 3; 7 7]\n",
      "10\n"
     ]
    }
   ],
   "source": [
    "using LinearAlgebra\n",
    "\n",
    "matrix = [1 2; 3 4]\n",
    "matrix2 = [1 1; 1 1]\n",
    "m =matrix*matrix2\n",
    "println(m)\n",
    "expected = sum(diag(m))\n",
    "\n",
    "println(expected)  # prints: 5"
   ]
  },
  {
   "cell_type": "code",
   "execution_count": 65,
   "metadata": {},
   "outputs": [
    {
     "name": "stdout",
     "output_type": "stream",
     "text": [
      "Sym[rho_11 rho_12; rho_21 rho_22]"
     ]
    },
    {
     "name": "stdout",
     "output_type": "stream",
     "text": [
      "\n",
      "Float64\n",
      "PyObject -1.0*(-0.165701526150589 + 0.337955916936837*I)*exp(I*k*x) + 1.0*(-0.055427896660394 + 0.0735110403638714*I)*exp(I*k*x) + 1.0*(-0.165701526150589 - 0.337955916936837*I)*exp(-I*k*x) - 1.0*(-0.055427896660394 - 0.0735110403638714*I)*exp(-I*k*x)\n",
      "PyObject\n",
      "PyObject\n"
     ]
    },
    {
     "ename": "PyCall.PyError",
     "evalue": "PyError (ccall(#= C:\\Users\\Diana\\.julia\\packages\\PyCall\\ilqDX\\src\\conversions.jl:59 =# @pysym(:PyFloat_AsDouble), Cdouble, (PyPtr,), po)) <class 'TypeError'>\nTypeError('Cannot convert expression to float')\n  File \"C:\\Users\\Diana\\.julia\\conda\\3\\x86_64\\lib\\site-packages\\sympy\\core\\expr.py\", line 351, in __float__\n    raise TypeError(\"Cannot convert expression to float\")\n",
     "output_type": "error",
     "traceback": [
      "PyError (ccall(#= C:\\Users\\Diana\\.julia\\packages\\PyCall\\ilqDX\\src\\conversions.jl:59 =# @pysym(:PyFloat_AsDouble), Cdouble, (PyPtr,), po)) <class 'TypeError'>\n",
      "TypeError('Cannot convert expression to float')\n",
      "  File \"C:\\Users\\Diana\\.julia\\conda\\3\\x86_64\\lib\\site-packages\\sympy\\core\\expr.py\", line 351, in __float__\n",
      "    raise TypeError(\"Cannot convert expression to float\")\n",
      "\n",
      "\n",
      "Stacktrace:\n",
      " [1] pyerr_check\n",
      "   @ C:\\Users\\Diana\\.julia\\packages\\PyCall\\ilqDX\\src\\exception.jl:75 [inlined]\n",
      " [2] convert\n",
      "   @ C:\\Users\\Diana\\.julia\\packages\\PyCall\\ilqDX\\src\\conversions.jl:58 [inlined]\n",
      " [3] push!(a::Vector{Float64}, item::PyObject)\n",
      "   @ Base .\\array.jl:1060\n",
      " [4] top-level scope\n",
      "   @ c:\\Users\\Diana\\Documents\\Fisica\\Beyond\\simulacion\\julia-tests.ipynb:34"
     ]
    }
   ],
   "source": [
    "include(\"Julia_OBE_tools-2-level-trial.jl\")\n",
    "Deltas = [0.1, 0.1]\n",
    "Delta_0 = 0.1\n",
    "Omegas = [1.0, 1.0]\n",
    "Gammas = [Omegas[1] / 4.0, Omegas[2] / 4.0]\n",
    "\n",
    "\n",
    "# Define initial density matrix\n",
    "rho_0 = reshape([1.0, 0.0, 0.0, 0.0, 0.0, 0.0, 0.0, 0.0, 0.0], (9, 1))\n",
    "rho_t = zeros(Float64, length(times), 4)\n",
    "\n",
    "#Initial conditions atom \n",
    "x_position = 0.0\n",
    "y_position = 10.0\n",
    "x_velocity = 0.0\n",
    "y_velocity = 10.0\n",
    "\n",
    "#time\n",
    "dt = 0.1\n",
    "time = 3.0\n",
    "\n",
    "#Constants\n",
    "g = 1.0\n",
    "mu_B = 1.0\n",
    "lambda = 4.0e-7 # Wavelength of light in m\n",
    "k = lambda/2pi\n",
    "B = 1.0\n",
    "\n",
    "#Force \n",
    "\n",
    "\n",
    "# Define arrays to store position, velocity, time and force\n",
    "x_positions = Float64[]\n",
    "y_positions = Float64[]\n",
    "time_list = Float64[]\n",
    "force_list = Float64[]\n",
    "for t in 1:Int(time / dt)\n",
    "    push!(x_positions, x_position)\n",
    "    push!(y_positions, y_position)\n",
    "    push!(time_list, t*dt)\n",
    "    \n",
    "    update_detuning(Deltas,Delta_0,g,mu_B,B,k,x_velocity) # Update detunings\n",
    "    \n",
    "    M = time_dep_matrix(Omegas, Deltas, Gammas)\n",
    "    \n",
    "    density_array_t = time_evolve(M, t, rho_0) # Perform time evolution of the density matrix\n",
    "    density_mat_t = reshape(density_array_t, (3, 3)) # Reshape the density matrix into a 3x3 matrix\n",
    "    F_0 = force_operator(Omegas,k,x_position)\n",
    "    F_t = expected_value(F_0, density_mat_t) # Calculate the expected value of the force operator\n",
    "    println(typeof(x_velocity))\n",
    "    global x_position, y_position, x_velocity, y_velocity = update_velocity_position(x_position,y_position,x_velocity,y_velocity,dt,F_t)\n",
    "    println(typeof(x_velocity))\n",
    "end\n",
    "\n",
    "p = plot(time_list, x_positions)\n",
    "savefig(p, \"atom_in_mot.png\")\n",
    "# Plot the trajectory of the ball\n",
    "\n",
    "anim = @animate for i in 1:length(x_positions)\n",
    "    plot([x_positions[i]], [y_positions[i]], seriestype=:scatter, marker=:circle, ms=10,\n",
    "        xlim=(-15, 15), ylim=(-2, 15), xlabel=\"X Position\", ylabel=\"Y Position\",\n",
    "        title=\"Ball Movement Under Gravity\", legend=false)\n",
    "end\n",
    "\n",
    "gif(anim, \"atom_in_mot.gif\", fps = 20)"
   ]
  },
  {
   "cell_type": "code",
   "execution_count": 50,
   "metadata": {},
   "outputs": [
    {
     "name": "stdout",
     "output_type": "stream",
     "text": [
      "PyObject\n",
      "PyObject\n"
     ]
    },
    {
     "ename": "PyCall.PyError",
     "evalue": "PyError (ccall(#= C:\\Users\\Diana\\.julia\\packages\\PyCall\\ilqDX\\src\\conversions.jl:59 =# @pysym(:PyFloat_AsDouble), Cdouble, (PyPtr,), po)) <class 'TypeError'>\nTypeError('Cannot convert expression to float')\n  File \"C:\\Users\\Diana\\.julia\\conda\\3\\x86_64\\lib\\site-packages\\sympy\\core\\expr.py\", line 351, in __float__\n    raise TypeError(\"Cannot convert expression to float\")\n",
     "output_type": "error",
     "traceback": [
      "PyError (ccall(#= C:\\Users\\Diana\\.julia\\packages\\PyCall\\ilqDX\\src\\conversions.jl:59 =# @pysym(:PyFloat_AsDouble), Cdouble, (PyPtr,), po)) <class 'TypeError'>\n",
      "TypeError('Cannot convert expression to float')\n",
      "  File \"C:\\Users\\Diana\\.julia\\conda\\3\\x86_64\\lib\\site-packages\\sympy\\core\\expr.py\", line 351, in __float__\n",
      "    raise TypeError(\"Cannot convert expression to float\")\n",
      "\n",
      "\n",
      "Stacktrace:\n",
      " [1] pyerr_check\n",
      "   @ C:\\Users\\Diana\\.julia\\packages\\PyCall\\ilqDX\\src\\exception.jl:75 [inlined]\n",
      " [2] convert\n",
      "   @ C:\\Users\\Diana\\.julia\\packages\\PyCall\\ilqDX\\src\\conversions.jl:58 [inlined]\n",
      " [3] setindex!\n",
      "   @ .\\array.jl:969 [inlined]\n",
      " [4] update_detuning(Deltas::Vector{Float64}, Delta_0::Float64, g::Float64, mu_B::Float64, B::Float64, k::Float64, v_x::PyObject)\n",
      "   @ Main c:\\Users\\Diana\\Documents\\Fisica\\Beyond\\simulacion\\Julia_OBE_tools-2-level-trial.jl:490\n",
      " [5] top-level scope\n",
      "   @ c:\\Users\\Diana\\Documents\\Fisica\\Beyond\\simulacion\\julia-tests.ipynb:2"
     ]
    }
   ],
   "source": [
    "println(typeof(x_velocity))\n",
    "update_detuning(Deltas,Delta_0,g,mu_B,B,k,x_velocity) # Update detunings"
   ]
  }
 ],
 "metadata": {
  "kernelspec": {
   "display_name": "Julia 1.9.3",
   "language": "julia",
   "name": "julia-1.9"
  },
  "language_info": {
   "file_extension": ".jl",
   "mimetype": "application/julia",
   "name": "julia",
   "version": "1.9.3"
  }
 },
 "nbformat": 4,
 "nbformat_minor": 2
}
