{
 "cells": [
  {
   "cell_type": "markdown",
   "id": "c063c73a-6276-4614-a258-26bba2b564a5",
   "metadata": {},
   "source": [
    "# JULIA OPTICAL BLOCH EQUATIONS"
   ]
  },
  {
   "cell_type": "markdown",
   "id": "e805ca8a-5cfc-4420-84f7-c3cb41abaf6a",
   "metadata": {},
   "source": [
    "### Libraries\n"
   ]
  },
  {
   "cell_type": "code",
   "execution_count": 1,
   "id": "6b34da54-1bd6-4f34-ae3d-f4974917a71c",
   "metadata": {
    "tags": []
   },
   "outputs": [
    {
     "data": {
      "text/plain": [
       "PyObject <module 'numpy' from '/Users/sofiapedraza/.julia/conda/3/x86_64/lib/python3.10/site-packages/numpy/__init__.py'>"
      ]
     },
     "execution_count": 1,
     "metadata": {},
     "output_type": "execute_result"
    }
   ],
   "source": [
    "using GenericLinearAlgebra\n",
    "using SymPy \n",
    "using PyCall\n",
    "using PyPlot\n",
    "using LinearAlgebra\n",
    "\n",
    "np = pyimport(\"numpy\")"
   ]
  },
  {
   "cell_type": "markdown",
   "id": "f08636aa-0313-4b43-a36b-ecef4c3bbef4",
   "metadata": {},
   "source": [
    "### Functions"
   ]
  },
  {
   "cell_type": "markdown",
   "id": "c6492253-57ef-4540-9540-d70ca1b51917",
   "metadata": {},
   "source": [
    "#### Density Matrix"
   ]
  },
  {
   "cell_type": "code",
   "execution_count": 2,
   "id": "c3a750b3-4a7a-4bfe-ba0f-2400e4bd6d21",
   "metadata": {
    "tags": []
   },
   "outputs": [
    {
     "data": {
      "text/plain": [
       "create_rho_list (generic function with 2 methods)"
      ]
     },
     "execution_count": 2,
     "metadata": {},
     "output_type": "execute_result"
    }
   ],
   "source": [
    "function create_rho_list(levels = 3)\n",
    "    rho_list = Sym[]\n",
    "    for i in 1:levels\n",
    "        for j in 1:levels\n",
    "            push!(rho_list,Sym(\"rho_$(i)$(j)\"))\n",
    "        end\n",
    "    end\n",
    "    return rho_list #!Revisar lo de la asignación con las variables globales\n",
    "end\n"
   ]
  },
  {
   "cell_type": "code",
   "execution_count": 3,
   "id": "c0741f4a-8356-4216-9ff5-67947d4d6ddc",
   "metadata": {
    "tags": []
   },
   "outputs": [
    {
     "data": {
      "text/plain": [
       "def_rho_matrix (generic function with 1 method)"
      ]
     },
     "execution_count": 3,
     "metadata": {},
     "output_type": "execute_result"
    }
   ],
   "source": [
    "function def_rho_matrix(levels)\n",
    "    rho_matrix = Matrix{Sym}(undef,levels,levels)\n",
    "    for i in 1:levels\n",
    "        for j in 1:levels      \n",
    "            rho_matrix[i, j] = symbols(\"rho_$(i)$(j)\")\n",
    "        end\n",
    "    end #!Revisar lo de la asignación con las variables globales\n",
    "    #println(rho_matrix)\n",
    "    #println(rho_matrix[1,1])  #Julia comienza a contar en 1, no en 0 como python.\n",
    "return rho_matrix\n",
    "end"
   ]
  },
  {
   "cell_type": "markdown",
   "id": "c1d53c29-41a3-4399-8598-26dd9a08ef56",
   "metadata": {
    "tags": []
   },
   "source": [
    "#### Create differents Hamiltonians"
   ]
  },
  {
   "cell_type": "code",
   "execution_count": 4,
   "id": "916f5116-fdaf-4d22-afe5-0eb5be007da5",
   "metadata": {
    "jupyter": {
     "source_hidden": true
    },
    "tags": []
   },
   "outputs": [
    {
     "data": {
      "text/plain": [
       "Hamiltonian (generic function with 1 method)"
      ]
     },
     "execution_count": 4,
     "metadata": {},
     "output_type": "execute_result"
    }
   ],
   "source": [
    "function Hamiltonian(Omegas, Deltas)\n",
    "    #Given lists of Rabi frequencies and detunings, construct interaction \n",
    "    \"\"\"\n",
    "    Hamiltonian (assuming RWA and dipole approximation) as per equation 14. \n",
    "    h_bar = 1 for simplicity.\n",
    "    Both lists should be in ascending order (Omega_12, Omega_23 etc) \"\"\"\n",
    "    levels = length(Omegas)+1\n",
    "    H = np.zeros((levels,levels),dtype=\"object\")\n",
    "    for i in 1:levels\n",
    "        for j in 1:levels\n",
    "            if i==j && i!=1\n",
    "                H[i,j] = -2*(np.sum(Deltas[1:i-1]))\n",
    "        \n",
    "            elseif abs(i-j) == 1\n",
    "                H[i,j] = Omegas[np.min([i,j])]\n",
    "            end\n",
    "        end\n",
    "    end\n",
    "    return np.matrix(H/2)\n",
    "end"
   ]
  },
  {
   "cell_type": "code",
   "execution_count": 5,
   "id": "a2739079-5d50-4dab-b6cc-9b2a52f37ce7",
   "metadata": {
    "jupyter": {
     "source_hidden": true
    },
    "tags": []
   },
   "outputs": [
    {
     "data": {
      "text/plain": [
       "Hamil (generic function with 1 method)"
      ]
     },
     "execution_count": 5,
     "metadata": {},
     "output_type": "execute_result"
    }
   ],
   "source": [
    "function Hamil(Omegas, Deltas)\n",
    "    #Given lists of Rabi frequencies and detunings, construct interaction \n",
    "    \"\"\"\n",
    "    Hamiltonian (assuming RWA and dipole approximation) as per equation 14. \n",
    "    h_bar = 1 for simplicity.\n",
    "    Both lists should be in ascending order (Omega_12, Omega_23 etc) \"\"\"\n",
    "    levels = length(Omegas)+1\n",
    "    H = np.zeros((levels,levels),dtype=\"float\")\n",
    "    #H = zeros(ComplexF64, length(levels), length(levels))\n",
    "    for i in 1:levels\n",
    "        for j in 1:levels\n",
    "            if i==j && i!=1\n",
    "                H[i,j]= Deltas[i-1]\n",
    "            elseif i!=j && i==1\n",
    "                H[i,j]= Omegas[i]\n",
    "            elseif i!=j && j==1 \n",
    "                H[i,j]= Omegas[j]\n",
    "            end\n",
    "        end\n",
    "    end\n",
    "    return np.matrix(H)\n",
    "end"
   ]
  },
  {
   "cell_type": "code",
   "execution_count": 44,
   "id": "febe9671-701d-4651-8e42-efadbc5fdb6b",
   "metadata": {},
   "outputs": [
    {
     "ename": "LoadError",
     "evalue": "MethodError: \u001b[0mCannot `convert` an object of type \u001b[92mSymbol\u001b[39m\u001b[0m to an object of type \u001b[91mSym\u001b[39m\n\n\u001b[0mClosest candidates are:\n\u001b[0m  convert(::Type{T}, \u001b[91m::AbstractChar\u001b[39m) where T<:Number\n\u001b[0m\u001b[90m   @\u001b[39m \u001b[90mBase\u001b[39m \u001b[90m\u001b[4mchar.jl:185\u001b[24m\u001b[39m\n\u001b[0m  convert(::Type{<:Number}, \u001b[91m::SciMLOperators.ScalarOperator\u001b[39m)\n\u001b[0m\u001b[90m   @\u001b[39m \u001b[36mSciMLOperators\u001b[39m \u001b[90m~/.julia/packages/SciMLOperators/3v6Oj/src/\u001b[39m\u001b[90m\u001b[4mscalar.jl:156\u001b[24m\u001b[39m\n\u001b[0m  convert(::Type{N}, \u001b[91m::DomainSets.Point{<:Number}\u001b[39m) where N<:Number\n\u001b[0m\u001b[90m   @\u001b[39m \u001b[32mDomainSets\u001b[39m \u001b[90m~/.julia/packages/DomainSets/0afEf/src/domains/\u001b[39m\u001b[90m\u001b[4mpoint.jl:14\u001b[24m\u001b[39m\n\u001b[0m  ...\n",
     "output_type": "error",
     "traceback": [
      "MethodError: \u001b[0mCannot `convert` an object of type \u001b[92mSymbol\u001b[39m\u001b[0m to an object of type \u001b[91mSym\u001b[39m\n\n\u001b[0mClosest candidates are:\n\u001b[0m  convert(::Type{T}, \u001b[91m::AbstractChar\u001b[39m) where T<:Number\n\u001b[0m\u001b[90m   @\u001b[39m \u001b[90mBase\u001b[39m \u001b[90m\u001b[4mchar.jl:185\u001b[24m\u001b[39m\n\u001b[0m  convert(::Type{<:Number}, \u001b[91m::SciMLOperators.ScalarOperator\u001b[39m)\n\u001b[0m\u001b[90m   @\u001b[39m \u001b[36mSciMLOperators\u001b[39m \u001b[90m~/.julia/packages/SciMLOperators/3v6Oj/src/\u001b[39m\u001b[90m\u001b[4mscalar.jl:156\u001b[24m\u001b[39m\n\u001b[0m  convert(::Type{N}, \u001b[91m::DomainSets.Point{<:Number}\u001b[39m) where N<:Number\n\u001b[0m\u001b[90m   @\u001b[39m \u001b[32mDomainSets\u001b[39m \u001b[90m~/.julia/packages/DomainSets/0afEf/src/domains/\u001b[39m\u001b[90m\u001b[4mpoint.jl:14\u001b[24m\u001b[39m\n\u001b[0m  ...\n",
      "",
      "Stacktrace:",
      " [1] setindex!",
      "   @ ./array.jl:971 [inlined]",
      " [2] hamilsym(Omegas::Vector{Float64}, k::Float64, x::Int64)",
      "   @ Main ./In[44]:13",
      " [3] top-level scope",
      "   @ In[44]:30"
     ]
    }
   ],
   "source": [
    "using Symbolics, LinearAlgebra\n",
    "\n",
    "function hamilsym(Omegas, k, x)\n",
    "    levels = length(Omegas) + 1\n",
    "    Omega = Omegas[1]  # Assuming you want the first element from the list\n",
    "    symdeltas = [Symbol(\"Delta$i\") for i in 1:levels]\n",
    "\n",
    "    H = Matrix{Sym}(undef,levels,levels)\n",
    "\n",
    "    for i in 1:levels\n",
    "        for j in 1:levels\n",
    "            if i == j && i != 1\n",
    "                H[i, j] = symdeltas[i]\n",
    "            else\n",
    "                H[i, j] = 0\n",
    "            end\n",
    "        end\n",
    "    end\n",
    "\n",
    "    H[1, 2] = -Omega * exp(1im * k * x)\n",
    "    H[1, 3] = -Omega * exp(-1im * k * x)\n",
    "    H[2, 1] = Omega * exp(-1im * k * x)\n",
    "    H[3, 1] = Omega * exp(1im * k * x)\n",
    "\n",
    "    return H\n",
    "end\n",
    "\n",
    "Omegas = [1.398e9, 1.398e9]\n",
    "k = 1.06e7\n",
    "result = hamilsym(Omegas, k, 1)\n",
    "display(result)"
   ]
  },
  {
   "cell_type": "code",
   "execution_count": 40,
   "id": "90799e70-df0a-43f3-bba6-e628ea0113b2",
   "metadata": {},
   "outputs": [
    {
     "data": {
      "text/plain": [
       "OBE_matrix (generic function with 1 method)"
      ]
     },
     "execution_count": 40,
     "metadata": {},
     "output_type": "execute_result"
    }
   ],
   "source": [
    "function OBE_matrix(Master_matrix)\n",
    "\n",
    "    levels = size(Master_matrix,1)\n",
    "    rho_vector = create_rho_list(levels)\n",
    "    coeff_matrix = np.zeros((levels^2, levels^2), dtype = \"complex\")\n",
    "    count = 1\n",
    "    for i in 1:levels\n",
    "        for j in 1:levels\n",
    "            entry = Master_matrix[i,j]\n",
    "            expanded = sympy.expand(entry)\n",
    "            #use Sympy coeff to extract coefficient of each element in rho_vect\n",
    "            for (n,r) in enumerate(rho_vector)\n",
    "                coeff_matrix[count, n] = complex(expanded.coeff(sympy.sympify(r)))\n",
    "            end \n",
    "            count += 1\n",
    "        end\n",
    "    end    \n",
    "    return coeff_matrix\n",
    "end"
   ]
  },
  {
   "cell_type": "markdown",
   "id": "c4d9dbb7-9a76-4c41-9f4d-7269c83982e8",
   "metadata": {},
   "source": [
    "#### Decay Operator\n"
   ]
  },
  {
   "cell_type": "code",
   "execution_count": 7,
   "id": "c318633b-549c-402d-bda6-76382e3eabb1",
   "metadata": {},
   "outputs": [
    {
     "data": {
      "text/plain": [
       "L_decay (generic function with 1 method)"
      ]
     },
     "execution_count": 7,
     "metadata": {},
     "output_type": "execute_result"
    }
   ],
   "source": [
    "function L_decay(Gammas)\n",
    "    \"\"\"\n",
    "    Given a list of linewidths for each atomic level, \n",
    "    construct atomic decay operator in matrix form for a ladder system.\n",
    "    Assumes that there is no decay from the lowest level (Gamma_1 = 0).\n",
    "    \"\"\"\n",
    "   \n",
    "    levels = length(Gammas)+1\n",
    "    rhos = def_rho_matrix(levels)\n",
    "    Gammas_all = [0; Gammas] #Adds a zero because there is no decay from the lowest level\n",
    "    decay_matrix = np.zeros((levels,levels), dtype = \"object\")\n",
    "    \n",
    "    for i in 1:levels\n",
    "        for j in 1:levels\n",
    "           \n",
    "            if i != j\n",
    "                decay_matrix[i,j] = -0.5*(\n",
    "                    Gammas_all[i]+Gammas_all[j])*rhos[i,j]\n",
    "                    \n",
    "            elseif i != levels\n",
    "                into = Gammas_all[i+1]*rhos[i+1, j+1]\n",
    "                outof = Gammas_all[i]*rhos[i, j]\n",
    "                decay_matrix[i,j] = into - outof\n",
    "            \n",
    "            else\n",
    "                outof = Gammas_all[i]*rhos[i, j]\n",
    "                decay_matrix[i,j] = - outof\n",
    "                \n",
    "            end\n",
    "           \n",
    "        end\n",
    "    end\n",
    "          \n",
    "    return np.matrix(decay_matrix)\n",
    "    \n",
    "end"
   ]
  },
  {
   "cell_type": "markdown",
   "id": "9adbb230-644d-4104-94d0-c70e016867ac",
   "metadata": {},
   "source": [
    "#### The dephasing due to the laser linewidths"
   ]
  },
  {
   "cell_type": "code",
   "execution_count": 8,
   "id": "6ddeb75e-58bb-4b75-8909-e539745c368a",
   "metadata": {},
   "outputs": [
    {
     "data": {
      "text/plain": [
       "L_dephasing (generic function with 1 method)"
      ]
     },
     "execution_count": 8,
     "metadata": {},
     "output_type": "execute_result"
    }
   ],
   "source": [
    "function L_dephasing(gammas)\n",
    "    \"\"\"\n",
    "    Given list of laser linewidths, create dephasing operator in matrix form. \n",
    "\n",
    "    Args:\n",
    "        gammas (list): Linewidths of the field coupling each pair of states \n",
    "            in the ladder, from lowest to highest energy states \n",
    "            (gamma_{12}, ..., gamma{n-1,n} for n levels).\n",
    "\n",
    "    Returns:\n",
    "        numpy.matrix: Dephasing operator as a matrix populated by expressions \n",
    "            containing Sympy symbolic objects.\n",
    "            Will be size nxn for an n-level system.\n",
    "    \"\"\"    \n",
    "    levels = length(gammas)+1\n",
    "    rhos = def_rho_matrix(levels)\n",
    "    deph_matrix = np.zeros((levels, levels), dtype = \"object\")\n",
    "    for i in 1:levels\n",
    "        for j in 1:levels\n",
    "            if i != j\n",
    "                max=np.max([i,j])\n",
    "                #if max == levels\n",
    "                 #   max = levels-1\n",
    "                #else max = np.max([i,j])\n",
    "                #end\n",
    "                deph_matrix[i,j] = -(np.sum(gammas[np.min(\n",
    "                    [i,j]):max-1]))*rhos[i,j]\n",
    "            end\n",
    "        end\n",
    "    end        \n",
    "    return np.matrix(deph_matrix)\n",
    "end\n"
   ]
  },
  {
   "cell_type": "markdown",
   "id": "2c06b6fe-1955-4eea-b38c-a16641457d6e",
   "metadata": {},
   "source": [
    "### MASTER EQUATION"
   ]
  },
  {
   "cell_type": "code",
   "execution_count": 9,
   "id": "72402451-3d33-4d28-947a-687d2ec71fea",
   "metadata": {},
   "outputs": [
    {
     "data": {
      "text/plain": [
       "Master_eqn (generic function with 1 method)"
      ]
     },
     "execution_count": 9,
     "metadata": {},
     "output_type": "execute_result"
    }
   ],
   "source": [
    "function Master_eqn(H_tot, L)\n",
    "    \"\"\"\n",
    "    Return an expression for the right hand side of the Master equation \n",
    "    (as in Eqn 18) for a given Hamiltonian and Lindblad term. \n",
    "    Assumes that the number of atomic levels is set by the shape of the \n",
    "    Hamiltonian matrix (nxn for n levels).\n",
    "\n",
    "    Args:\n",
    "        H_tot (matrix): The total Hamiltonian in the interaction picture.\n",
    "        L (matrix): The Lindblad superoperator in matrix form. \n",
    "\n",
    "    Returns:\n",
    "        numpy.matrix: Right hand side of the Master equation (eqn 18) \n",
    "        as a matrix containing expressions in terms of Sympy symbolic objects.\n",
    "        Will be size nxn for an n-level system.\n",
    "    \"\"\"    \n",
    "    levels = size(H_tot,1)\n",
    "    dens_mat = def_rho_matrix(levels)\n",
    "    return -1im*(H_tot*dens_mat - dens_mat*H_tot) + L\n",
    "end\n"
   ]
  },
  {
   "cell_type": "markdown",
   "id": "7c0100d5-8795-4648-a64d-5e523f14675e",
   "metadata": {},
   "source": [
    "#### Optical Bloch Matrix"
   ]
  },
  {
   "cell_type": "code",
   "execution_count": 10,
   "id": "3728d2d2-fe00-46d2-8417-efb89d0dd843",
   "metadata": {},
   "outputs": [
    {
     "data": {
      "text/plain": [
       "OBE_matrix (generic function with 1 method)"
      ]
     },
     "execution_count": 10,
     "metadata": {},
     "output_type": "execute_result"
    }
   ],
   "source": [
    "function OBE_matrix(Master_matrix)\n",
    "    \"\"\"\n",
    "    Take the right hand side of the Master equation (-i[H,\\rho] + L) \n",
    "    expressed as an array of multiples of Sympy symbolic objects and output \n",
    "    an ndarray of coefficients M such that d rho_vect/dt = M*rho_vect \n",
    "    where rho_vect is the vector of density matrix elements.\n",
    "\n",
    "    Args:\n",
    "        Master_matrix (matrix): The right hand side of the Master equation \n",
    "            as a matrix of multiples of Sympy symbolic objects\n",
    "\n",
    "    Returns:\n",
    "        numpy.ndarray: An array of (complex) coefficients. \n",
    "            Will be size n^2 x n^2 for an n-level system.\n",
    "    \"\"\"    \n",
    "    levels = size(Master_matrix,1)\n",
    "    rho_vector = create_rho_list(levels)\n",
    "    coeff_matrix = np.zeros((levels^2, levels^2), dtype = \"complex\")\n",
    "    count = 1\n",
    "    for i in 1:levels\n",
    "        for j in 1:levels\n",
    "            entry = Master_matrix[i,j]\n",
    "            expanded = sympy.expand(entry)\n",
    "            #use Sympy coeff to extract coefficient of each element in rho_vect\n",
    "            for (n,r) in enumerate(rho_vector)\n",
    "                coeff_matrix[count, n] = complex(expanded.coeff(sympy.sympify(r)))\n",
    "            end \n",
    "            count += 1\n",
    "        end\n",
    "    end    \n",
    "    return coeff_matrix\n",
    "end"
   ]
  },
  {
   "cell_type": "markdown",
   "id": "79fb8131-eafe-45fd-bda0-da9eb4a3a343",
   "metadata": {},
   "source": [
    "#### Singular Value Decomposition"
   ]
  },
  {
   "cell_type": "code",
   "execution_count": 11,
   "id": "680faeb7-61c2-47c2-9f90-58322046e158",
   "metadata": {},
   "outputs": [
    {
     "data": {
      "text/plain": [
       "SVD (generic function with 1 method)"
      ]
     },
     "execution_count": 11,
     "metadata": {},
     "output_type": "execute_result"
    }
   ],
   "source": [
    "function SVD(coeff_matrix)\n",
    "    \"\"\"\n",
    "    Perform singular value decomposition (SVD) on matrix of coefficients \n",
    "    using the numpy.linalg.svd function.\n",
    "    SVD returns US(V)*^T where S is the diagonal matrix of singular values.\n",
    "    The solution of the system of equations is then the column of V \n",
    "    corresponding to the zero singular value.\n",
    "    If there is no zero singular value (within tolerance, allowing for \n",
    "    floating point precision) then return a zero array.\n",
    "\n",
    "    Args:\n",
    "        coeff_matrix (ndarray): array of complex coefficients M that satisfies \n",
    "            the expression d rho_vect/dt = M*rho_vect where rho_vect is the \n",
    "            vector of density matrix elements.\n",
    "\n",
    "    Returns:\n",
    "        ndarray: 1D array of complex floats corresponding to the steady-state \n",
    "            value of each element of the density matrix in the order given by \n",
    "            the rho_list function. Will be length n for an n-level system.\n",
    "    \"\"\"    \n",
    "    levels = Int(np.sqrt(size(coeff_matrix,1)))\n",
    "    u,sig,v = np.linalg.svd(coeff_matrix)\n",
    "    abs_sig = np.abs(sig)\n",
    "    minval = np.min(abs_sig)\n",
    "    if minval>1e-12\n",
    "        println(\"ERROR - Matrix is non-singular\")\n",
    "        return np.zeros((levels^2))\n",
    "    end\n",
    "    index = argmin(abs_sig)[1]\n",
    "    rho = np.conjugate(v[index,:]) \n",
    "    #SVD returns the conjugate transpose of v\n",
    "    pops = np.zeros((levels))\n",
    "    for l in 0:levels-1\n",
    "        pops[l+1] = (np.real(rho[l*(levels+1)+1]))\n",
    "    end\n",
    "    t = 1/(np.sum(pops)) #Normalise so the sum of the populations is one\n",
    "    rho_norm = rho*t\n",
    "    return rho_norm\n",
    "end"
   ]
  },
  {
   "cell_type": "markdown",
   "id": "f1925126-9c38-42c5-9f05-4cab17ba6814",
   "metadata": {},
   "source": [
    "#### Steady state solution for the density matrix "
   ]
  },
  {
   "cell_type": "code",
   "execution_count": 12,
   "id": "8e49b392-29df-4fa2-a3b4-6bfcdf3c27d9",
   "metadata": {},
   "outputs": [
    {
     "data": {
      "text/plain": [
       "steady_state_soln (generic function with 2 methods)"
      ]
     },
     "execution_count": 12,
     "metadata": {},
     "output_type": "execute_result"
    }
   ],
   "source": [
    "function steady_state_soln(Omegas, Deltas, Gammas, gammas = [])\n",
    "    \"\"\"\n",
    "    Given lists of parameters (all in order of lowers to highest energy level), \n",
    "    construct and solve for steady state of density matrix. \n",
    "    Returns ALL elements of density matrix in order of rho_list \n",
    "    (rho_11, rho_12, ... rho_i1, rho_i2, ..., rho_{n, n-1}, rho_nn).\n",
    "\n",
    "    Args:\n",
    "        Omegas (list of floats): Rabi frequencies of fields coupling each pair \n",
    "            of states in the ladder, from lowest to highest energy states \n",
    "            (Omega_{12}, ..., Omega{n-1,n} for n levels).\n",
    "        Deltas (list of floats): Detuning of fields coupling each pair \n",
    "            of states in the ladder, from lowest to highest energy states \n",
    "            (Delta_{12}, ..., Delta{n-1,n} for n levels).\n",
    "        Gammas (list of floats): Linewidth of the atomic states considered. \n",
    "            Assumes no decay from lowest energy atomic state (Gamma_1 = 0).\n",
    "            Values should be given in order of lowest to highest energy level \n",
    "            (Gamma_2, Gamma_3, ... , Gamma_n for n levels). \n",
    "            n-1 values for n levels.\n",
    "        gammas (list of floats, optional): Linewidths of the fields coupling \n",
    "            each pair of states in the ladder, from lowest to highest energy \n",
    "            (gamma_{12}, ..., gamma{n-1,n} for n levels). \n",
    "            Defaults to [] (meaning all gamma_ij = 0).\n",
    "\n",
    "    Returns:\n",
    "        ndarray: 1D array containing values for each element of the density \n",
    "            matrix in the steady state, in the order returned by the rho_list \n",
    "            function (rho_11, rho_12, ..., rho_{n, n-1}, rho_nn).\n",
    "            Will be length n for an n-level system.\n",
    "    \"\"\"    \n",
    "    L_atom = L_decay(Gammas)\n",
    "    if length(gammas) != 0\n",
    "        L_laser = L_dephasing(gammas)\n",
    "        L_tot = L_atom + L_laser\n",
    "    \n",
    "    else\n",
    "        L_tot = L_atom\n",
    "    end\n",
    "    H = Hamiltonian(Omegas, Deltas)\n",
    "    Master = Master_eqn(H, L_tot)\n",
    "    rho_coeffs = OBE_matrix(Master)\n",
    "    soln = SVD(rho_coeffs)\n",
    "    return soln\n",
    "end"
   ]
  },
  {
   "cell_type": "markdown",
   "id": "23dc77fe-0175-41ba-9e19-09600a3d450c",
   "metadata": {},
   "source": [
    "#### Obviously because every parameter step requires solving an eigenvalue problem, this method is NOT fast. However it does allow you to compute results for parameters outside of the weak probe regime (defined as). If your system is in the weak probe regime, there are explicit analytic solutions, especially for low numbers of levels (usually <5)."
   ]
  },
  {
   "cell_type": "code",
   "execution_count": 13,
   "id": "54bfee3d-403d-4a69-ae45-268f6971f056",
   "metadata": {},
   "outputs": [
    {
     "data": {
      "text/plain": [
       "fast_3_level (generic function with 2 methods)"
      ]
     },
     "execution_count": 13,
     "metadata": {},
     "output_type": "execute_result"
    }
   ],
   "source": [
    "function fast_3_level(Omegas, Deltas, Gammas, gammas = [])\n",
    "    \"\"\"\n",
    "    Calculate the analytic solution of the steady-state probe coherence \n",
    "    (rho_{21}) in the weak probe limit for a 3-level ladder system.\n",
    "\n",
    "    Args:\n",
    "        Omegas (list of floats): Rabi frequencies of fields coupling each pair \n",
    "            of states in the ladder, from lowest to highest energy states \n",
    "            (Omega_{12}, ..., Omega{n-1,n} for n levels).\n",
    "        Deltas (list of floats): Detuning of fields coupling each pair \n",
    "            of states in the ladder, from lowest to highest energy states \n",
    "            (Delta_{12}, ..., Delta{n-1,n} for n levels).\n",
    "        Gammas (list of floats): Linewidth of the atomic states considered. \n",
    "            Assumes no decay from lowest energy atomic state (Gamma_1 = 0).\n",
    "            Values should be given in order of lowest to highest energy level \n",
    "            (Gamma_2, Gamma_3, ... , Gamma_n for n levels). \n",
    "            n-1 values for n levels.\n",
    "        gammas (list of floats, optional): Linewidths of the field coupling \n",
    "            each pair of states in the ladder, from lowest to highest energy \n",
    "            (gamma_{12}, ..., gamma{n-1,n} for n levels). \n",
    "            Defaults to [] (meaning all gamma_ij = 0).\n",
    "\n",
    "    Returns:\n",
    "        complex: steady-state value of the probe coherence (rho_{21})\n",
    "        \"\"\"  \n",
    "    Delta_12, Delta_23 = Deltas[:]\n",
    "    Omega_12, Omega_23 = Omegas[:]\n",
    "    Gamma_2, Gamma_3 = Gammas[:]\n",
    "    if length(gammas) != 0\n",
    "        gamma_12, gamma_23 = gammas[:]\n",
    "    \n",
    "    else\n",
    "        gamma_12, gamma_23 = 0, 0\n",
    "    end\n",
    "    expression = ((Omega_23^2)/4)/(1im*(Delta_12 + Delta_23) + (Gamma_3/2)\n",
    "    + gamma_12 + gamma_23)\n",
    "    bottom = (1im*Delta_12) + (Gamma_2/2) + gamma_12 + expression\n",
    "    rho = (1im*Omega_12)/(2*bottom)\n",
    "    \n",
    "    return np.conjugate(rho)\n",
    "end"
   ]
  },
  {
   "cell_type": "code",
   "execution_count": 14,
   "id": "49dae06b-bd3c-4d77-85e3-4843153392d7",
   "metadata": {},
   "outputs": [
    {
     "data": {
      "text/plain": [
       "fast_4_level (generic function with 2 methods)"
      ]
     },
     "execution_count": 14,
     "metadata": {},
     "output_type": "execute_result"
    }
   ],
   "source": [
    "function fast_4_level(Omegas, Deltas, Gammas, gammas = [])\n",
    "    \"\"\"\n",
    "    Analytic solution of the steady-state probe coherence (rho_{21}) \n",
    "    in the weak probe limit for a 4-level ladder system.\n",
    "\n",
    "    Args:\n",
    "        Omegas (list of floats): Rabi frequencies of fields coupling each pair \n",
    "            of states in the ladder, from lowest to highest energy states \n",
    "            (Omega_{12}, ..., Omega{n-1,n} for n levels).\n",
    "        Deltas (list of floats): Detuning of fields coupling each pair \n",
    "            of states in the ladder, from lowest to highest energy states \n",
    "            (Delta_{12}, ..., Delta{n-1,n} for n levels).\n",
    "        Gammas (list of floats): Linewidth of the atomic states considered. \n",
    "            Assumes no decay from lowest energy atomic state (Gamma_1 = 0).\n",
    "            Values should be given in order of lowest to highest energy level \n",
    "            (Gamma_2, Gamma_3, ... , Gamma_n for n levels). \n",
    "            n-1 values for n levels.\n",
    "        gammas (list of floats, optional): Linewidths of the field coupling \n",
    "            each pair of states in the ladder, from lowest to highest energy  \n",
    "            (gamma_{12}, ..., gamma{n-1,n} for n levels). \n",
    "            Defaults to [] (meaning all gamma_ij = 0).\n",
    "\n",
    "    Returns:\n",
    "        complex: steady-state value of the probe coherence (rho_{21})\n",
    "    \"\"\"    \n",
    "    Omega_12, Omega_23, Omega_34 = Omegas[:]\n",
    "    Delta_12, Delta_23, Delta_34 = Deltas[:]\n",
    "    Gamma_2, Gamma_3, Gamma_4 = Gammas[:]\n",
    "    if length(gammas) != 0\n",
    "        gamma_12, gamma_23, gamma_34 = gammas[:]\n",
    "    else\n",
    "        gamma_12, gamma_23, gamma_34 = 0,0,0\n",
    "    end\n",
    "    bracket_1 = 1im*(Delta_12 + Delta_23 + Delta_34) - gamma_12 - gamma_23 - \n",
    "    gamma_34 - (Gamma_4/2)\n",
    "    bracket_2 = 1im*(Delta_12 + Delta_23) - (Gamma_3/2) - gamma_12 - gamma_23 +\n",
    "    (Omega_34^2)/(4*bracket_1)\n",
    "    bracket_3 = 1im*Delta_12 - (Gamma_2/2) - gamma_12 + (\n",
    "        Omega_23^2)/(4*bracket_2)\n",
    "    return (1im*Omega_12)/(2*bracket_3)\n",
    "end"
   ]
  },
  {
   "cell_type": "markdown",
   "id": "dd68189d-6d90-4a14-be27-60807f25ba4e",
   "metadata": {},
   "source": [
    "#### Analytic solution for an arbitrary number of levels"
   ]
  },
  {
   "cell_type": "code",
   "execution_count": 15,
   "id": "c6c76425-2099-4799-8a51-fb759e868bf6",
   "metadata": {},
   "outputs": [
    {
     "data": {
      "text/plain": [
       "term_n (generic function with 2 methods)"
      ]
     },
     "execution_count": 15,
     "metadata": {},
     "output_type": "execute_result"
    }
   ],
   "source": [
    "function term_n(n, Deltas, Gammas, gammas = [])\n",
    "    \"\"\"\n",
    "    Generate the nth term in the iterative expansion method for calculating \n",
    "    the probe coherence (rho_{21}) for an arbitrary number of levels in the \n",
    "    weak-probe limit.\n",
    "\n",
    "    Args:\n",
    "        n (int): Index (for n>0)\n",
    "        Deltas (list of floats): Detuning of fields coupling each pair \n",
    "            of states in the ladder, from lowest to highest energy states \n",
    "            (Delta_{12}, ..., Delta{n-1,n} for n levels).\n",
    "        Gammas (list of floats): Linewidth of the atomic states considered. \n",
    "            Assumes no decay from lowest energy atomic state (Gamma_1 = 0).\n",
    "            Values should be given in order of lowest to highest energy level \n",
    "            (Gamma_2,Gamma_3, ... , Gamma_n for n levels). \n",
    "            n-1 values for n levels.\n",
    "        gammas (list of floats, optional): Linewidths of the fields coupling \n",
    "            each pair of states in the ladder, from lowest to highest energy \n",
    "            (gamma_{12}, ..., gamma{n-1,n} for n levels).\n",
    "            Defaults to [] (meaning all gamma_ij = 0).\n",
    "\n",
    "    Returns:\n",
    "        complex float: value of the probe coherence (\\rho_{21}) \n",
    "            in the steady-state\n",
    "    \"\"\"\n",
    "    if n > length(Deltas) || n > length(Gammas)\n",
    "        throw(ArgumentError(\"n should be smaller or equal to the length of Deltas and Gammas\"))\n",
    "    end\n",
    "    if length(gammas) == 0\n",
    "        gammas = np.zeros((length(Deltas))) \n",
    "    end \n",
    "    # n>0\n",
    "    return 1im*(np.sum(Deltas[1:n+1])) - (Gammas[n+1]/2) - np.sum(\n",
    "        gammas[1:n+1])\n",
    "end\n"
   ]
  },
  {
   "cell_type": "markdown",
   "id": "f53ae578-31a4-48b0-985b-30a6d7df960a",
   "metadata": {},
   "source": [
    "#### Time evolution operator "
   ]
  },
  {
   "cell_type": "code",
   "execution_count": 16,
   "id": "138180a6-3167-42d8-ac24-b3d35145fb49",
   "metadata": {},
   "outputs": [
    {
     "data": {
      "text/plain": [
       "time_op (generic function with 1 method)"
      ]
     },
     "execution_count": 16,
     "metadata": {},
     "output_type": "execute_result"
    }
   ],
   "source": [
    "function time_op(operator, t)\n",
    "    \"\"\"Creates expresion for the time evolution operator. \n",
    "\n",
    "    Args:\n",
    "        operator (matrix): Operator describing the time evolution of a system \n",
    "            in matrix form\n",
    "        t (float): Time at which the expression is to be evaluated\n",
    "\n",
    "    Returns:\n",
    "        numpy.matrix: matrix form of the time evolution operator \n",
    "            exp^{operator*t}\n",
    "    \"\"\"    \n",
    "    exponent = operator*t\n",
    "    return exp(exponent) #linalg.expm does matrix exponentiation\n",
    "end\n"
   ]
  },
  {
   "cell_type": "code",
   "execution_count": 17,
   "id": "a885df2f-b4a9-4e97-9241-9e8ae531bc38",
   "metadata": {},
   "outputs": [
    {
     "data": {
      "text/plain": [
       "time_evolve (generic function with 1 method)"
      ]
     },
     "execution_count": 17,
     "metadata": {},
     "output_type": "execute_result"
    }
   ],
   "source": [
    "function time_evolve(operator, t, psi_0)\n",
    "    \"\"\"\n",
    "    Evaluate the state of a system at a time t, given an operator \n",
    "    describing its time evolution and the state of the system at t=0.\n",
    "\n",
    "    Args:\n",
    "        operator (matrix): matrix representation of operator describing \n",
    "            time evolution of the system.\n",
    "        t (float): Time at which the state of the system is to be evaluated.\n",
    "        psi_0 (1D array): Vector describing the initial state of the system \n",
    "            (at t=0).\n",
    "\n",
    "    Returns:\n",
    "        1D array: the state of the system at time t\n",
    "    \"\"\"    \n",
    "    return np.matmul(time_op(operator, t), psi_0)\n",
    "end"
   ]
  },
  {
   "cell_type": "markdown",
   "id": "9a1e7aa5-d032-49ef-9cc6-78f14660cb0b",
   "metadata": {},
   "source": [
    "#### Matrix of time-independent coefficients  $\\hat{M}$ found from the Master equation\n"
   ]
  },
  {
   "cell_type": "code",
   "execution_count": 18,
   "id": "6bd62e96-2189-48df-a903-853fc1dd6b22",
   "metadata": {},
   "outputs": [
    {
     "data": {
      "text/plain": [
       "time_dep_matrix (generic function with 2 methods)"
      ]
     },
     "execution_count": 18,
     "metadata": {},
     "output_type": "execute_result"
    }
   ],
   "source": [
    "function time_dep_matrix(Omegas, Deltas, Gammas,k,x,gammas = [])\n",
    "    \"\"\"\n",
    "    Given lists of parameters (all in order of lowers to highest energy level), \n",
    "    construct matrix of coefficients for time evolution of \n",
    "    the density matrix vector.\n",
    "\n",
    "    Args:\n",
    "        Omegas (list of floats): Rabi frequencies of fields coupling each pair \n",
    "            of states in the ladder, from lowest to highest energy states \n",
    "            (Omega_{12}, ..., Omega{n-1,n} for n levels).\n",
    "        Deltas (list of floats): Detuning of fields coupling each pair \n",
    "            of states in the ladder, from lowest to highest energy states \n",
    "            (Delta_{12}, ..., Delta{n-1,n} for n levels).\n",
    "        Gammas (list of floats): Linewidth of the atomic states considered. \n",
    "            Assumes no decay from lowest energy atomic state (Gamma_1 = 0).\n",
    "            Values should be given in order of lowest to highest energy level \n",
    "            (Gamma_2, Gamma_3, ... , Gamma_n for n levels). \n",
    "            n-1 values for n levels.\n",
    "        gammas (list of floats, optional): Linewidths of the fields coupling \n",
    "            each pair of states in the ladder, from lowest to highest energy \n",
    "            (gamma_{12}, ..., gamma{n-1,n} for n levels).\n",
    "            Defaults to [] (meaning all gamma_ij = 0).  \n",
    "    Returns:\n",
    "        ndarray: n^2 x n^2 array (for an n-level system) of coefficients M \n",
    "            which satisfies the equation drho_{vect}/dt = Mrho_{vect} \n",
    "            where rho_{vect} is the vector representation of the \n",
    "            density matrix.\n",
    "    \"\"\"    \n",
    "    # first create decay/dephasing operators\n",
    "    L_atom = L_decay(Gammas)\n",
    "    if length(gammas) != 0\n",
    "        L_laser = L_dephasing(gammas)\n",
    "        L_tot = L_atom + L_laser\n",
    "    else\n",
    "        L_tot = L_atom\n",
    "    end\n",
    "    H = Hamil3(Omegas, Deltas,k,x) #create the total Hamiltonian\n",
    "    Master = Master_eqn(H, L_tot) \n",
    "    rho_coeffs = OBE_matrix(Master) #create matrix of coefficients\n",
    "    return rho_coeffs\n",
    "end\n"
   ]
  },
  {
   "cell_type": "code",
   "execution_count": 19,
   "id": "bbecc592-abbb-4737-bc68-070f519d5132",
   "metadata": {},
   "outputs": [
    {
     "data": {
      "text/plain": [
       "force_operator (generic function with 1 method)"
      ]
     },
     "execution_count": 19,
     "metadata": {},
     "output_type": "execute_result"
    }
   ],
   "source": [
    "function force_operator(Omegas,k,x)\n",
    "    \"\"\"\n",
    "    Given lists of parameters (all in order of lowers to highest energy level), \n",
    "    construct force operator.\n",
    "\n",
    "    Args:\n",
    "        Omegas (list of floats): Rabi frequencies of fields coupling each pair \n",
    "            of states in the ladder, from lowest to highest energy states \n",
    "            (Omega_{12}, ..., Omega{n-1,n} for n levels).\n",
    "        \n",
    "    Returns:\n",
    "        ndarray: n^2 x n^2 array (for an n-level system) representing force operator calculated\n",
    "        as per hamilton equations, d(d dot E)/dx=F.\n",
    "    \"\"\"\n",
    "    \n",
    "    levels = 3 \n",
    "    Omega = Omegas[1]   \n",
    "    F = zeros(ComplexF64, levels, levels)\n",
    "    \n",
    "    for i in 1:levels\n",
    "        for j in 1:levels\n",
    "            if(i==j)\n",
    "                F[i,j] = 0.0\n",
    "            end\n",
    "            \n",
    "        end\n",
    "    end\n",
    "    F[1,2] = -Omega*ℯ^(1im*k*x)\n",
    "    F[1,3] = -Omega*ℯ^(-1im*k*x)\n",
    "    F[2,1] = Omega*ℯ^(-1im*k*x)\n",
    "    F[3,1] = Omega*ℯ^(1im*k*x)\n",
    "    return F\n",
    "end"
   ]
  },
  {
   "cell_type": "code",
   "execution_count": 20,
   "id": "3d997cb2-034c-4053-8c65-dc492399538b",
   "metadata": {},
   "outputs": [
    {
     "data": {
      "text/plain": [
       "update_detuning (generic function with 1 method)"
      ]
     },
     "execution_count": 20,
     "metadata": {},
     "output_type": "execute_result"
    }
   ],
   "source": [
    "function update_detuning(Deltas,Delta_0,g,mu_B,B,k,v_x)       \n",
    "        Deltas[1] = Delta_0 + g*mu_B*B+k*v_x\n",
    "        Deltas[2] = Delta_0 - g*mu_B*B-k*v_x\n",
    "end"
   ]
  },
  {
   "cell_type": "code",
   "execution_count": 21,
   "id": "d46d0bb5-702e-4d94-ba49-88ea1e70481c",
   "metadata": {},
   "outputs": [
    {
     "data": {
      "text/plain": [
       "expected_value (generic function with 1 method)"
      ]
     },
     "execution_count": 21,
     "metadata": {},
     "output_type": "execute_result"
    }
   ],
   "source": [
    "function expected_value(operator, density_matrix)\n",
    "    expected = sum(diag(density_matrix*operator))\n",
    "    return expected\n",
    "end\n"
   ]
  },
  {
   "cell_type": "code",
   "execution_count": 22,
   "id": "34361f78-ec46-4ce2-8b20-53955944c922",
   "metadata": {},
   "outputs": [
    {
     "data": {
      "text/plain": [
       "update_velocity_position (generic function with 1 method)"
      ]
     },
     "execution_count": 22,
     "metadata": {},
     "output_type": "execute_result"
    }
   ],
   "source": [
    "function update_velocity_position(x,y,vx,vy,dt,F)\n",
    "    \n",
    "    force = F\n",
    "    \n",
    "    \n",
    "    theta = atan(y/x)\n",
    "    fx = force\n",
    "    fy = 0.0 \n",
    "\n",
    "    #update vel and pos \n",
    "    vx += fx * dt\n",
    "    vy += fy * dt\n",
    "    x += vx * dt\n",
    "    y += vy * dt\n",
    "\n",
    "    return x,y,vx,vy\n",
    "\n",
    "end"
   ]
  },
  {
   "cell_type": "code",
   "execution_count": 23,
   "id": "187dab67-8f0a-4dca-a868-a35d9391530c",
   "metadata": {},
   "outputs": [
    {
     "name": "stdout",
     "output_type": "stream",
     "text": [
      "Sym[Delta1, Delta2]"
     ]
    }
   ],
   "source": [
    "function create_deltas(levels = 3)\n",
    "    cdeltas = Sym[]\n",
    "    for i in 1:levels\n",
    "        push!(cdeltas,Sym(\"Delta$(i)\"))\n",
    "        \n",
    "    end\n",
    "    return cdeltas #!Revisar lo de la asignación con las variables globales\n",
    "end\n",
    "print(create_deltas(2))"
   ]
  },
  {
   "cell_type": "code",
   "execution_count": 24,
   "id": "916c1391-6526-4bfb-8e1f-323588d52c42",
   "metadata": {},
   "outputs": [
    {
     "data": {
      "text/plain": [
       "update_detuning (generic function with 1 method)"
      ]
     },
     "execution_count": 24,
     "metadata": {},
     "output_type": "execute_result"
    }
   ],
   "source": [
    "function update_detuning(Deltas,Delta_0,g,mu_B,B,k,v_x)       \n",
    "        Deltas[1] = Delta_0 + g*mu_B*B+k*v_x\n",
    "        Deltas[2] = Delta_0 - g*mu_B*B-k*v_x\n",
    "end"
   ]
  }
 ],
 "metadata": {
  "kernelspec": {
   "display_name": "Julia 1.9.3",
   "language": "julia",
   "name": "julia-1.9"
  },
  "language_info": {
   "file_extension": ".jl",
   "mimetype": "application/julia",
   "name": "julia",
   "version": "1.9.3"
  }
 },
 "nbformat": 4,
 "nbformat_minor": 5
}
